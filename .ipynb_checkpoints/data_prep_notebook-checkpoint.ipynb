{
 "cells": [
  {
   "cell_type": "code",
   "execution_count": 3,
   "id": "4e6a7a46",
   "metadata": {},
   "outputs": [],
   "source": [
    "import pandas as pd\n",
    "import missingno as msno\n",
    "from genesis import *\n",
    "\n",
    "from datetime import date\n",
    "DATE_RANGE = pd.date_range(date(2000,1,3), date(2022,1,1), freq='B')"
   ]
  },
  {
   "cell_type": "code",
   "execution_count": 4,
   "id": "1b37382a",
   "metadata": {},
   "outputs": [],
   "source": [
    "def fill_date(data, fill_forward = False):\n",
    "  date_range_df = pd.DataFrame(DATE_RANGE).set_index(0)\n",
    "  date_range_df.index.names = [\"Dates\"]\n",
    "  data.index.names = [\"Dates\"]\n",
    "  if fill_forward:\n",
    "    filled_data = pd.merge(date_range_df, data, how=\"outer\", on=\"Dates\").ffill()\n",
    "  else:\n",
    "    filled_data = pd.merge(date_range_df, data, how=\"outer\", on=\"Dates\")\n",
    "  return filled_data\n",
    "\n",
    "def standardize_series(adf, typ):\n",
    "  df = adf.copy()\n",
    "  problems = [list(df).index(x) for x in list(df) if x[:3] != \"USD\"]\n",
    "  tmp_names = list(map(lambda x: df.columns[x] if x not in problems else (df.columns[x][3:] + df.columns[x][:3]) , range(len(df.columns))))\n",
    "  for i in problems:\n",
    "    if typ == \"prices\":\n",
    "      df.iloc[:,i] = 1/df.iloc[:,i]\n",
    "    elif typ == \"returns\":\n",
    "      df.iloc[:,i] = df.iloc[:,i] * -1\n",
    "  df.columns = tmp_names\n",
    "  return df"
   ]
  },
  {
   "cell_type": "code",
   "execution_count": 5,
   "id": "e028eb8a",
   "metadata": {},
   "outputs": [
    {
     "name": "stderr",
     "output_type": "stream",
     "text": [
      "c:\\users\\vin_s\\appdata\\local\\programs\\python\\python39\\lib\\site-packages\\IPython\\core\\interactiveshell.py:3441: DtypeWarning: Columns (1,2,3,4,5,6,7,8,9,10,11,12,13,14,15,16,17,18,19,20,21,22,23,24,25,26,27,28,29,30,31,32,33,34,35,36,37,38,39,40,41,42,43,44,45,46,47,48,49,50,51,52,53,54,55,56,57,58,59,60,61,62,63,64,65,66,67,68,69,70,71,72,73,74,75,76,77,78,79,80,81,82,83,84,85,86,87,88,89,90,91,92,93,94,95,96,97,98,99,100,101,102,103,104,105,106,107,108,109,110,111,112,113,114,115,116,117,118,119,120,121,122,123,124,125,126,127,128,129,130,131,132,133,134,135,136,137,138,139,140,141,142,143,144,145,146,147,148,149,150,151,152,153,154,155,156,157,158,159,160,161,162,163,164,165,166,167,168,169,170,171,172,173,174,175,176,177,178,179,180,181,182,183,184,185,186,187,188,189,190) have mixed types.Specify dtype option on import or set low_memory=False.\n",
      "  exec(code_obj, self.user_global_ns, self.user_ns)\n"
     ]
    }
   ],
   "source": [
    "raw_data = pd.read_csv(\"../Dymon/Code Data/NUS_Data.csv\", index_col=0, header=1)"
   ]
  },
  {
   "cell_type": "code",
   "execution_count": 6,
   "id": "1fc97c56",
   "metadata": {},
   "outputs": [],
   "source": [
    "fx = raw_data[[x for x in list(raw_data) if (\"USD\" in x or \"+1\" in x)]]\n",
    "spot_ndf = fx[[x for x in fx.columns if fx.loc[\"field\", x] == \"PX_LAST\"]]\n",
    "spot_ndf = spot_ndf.iloc[2:,:]\n",
    "spot_ndf.columns = [\"EURUSD\", \"GBPUSD\", \"AUDUSD\", \"NZDUSD\", \"USDJPY\", \"USDCAD\", \"USDSEK\", \"USDNOK\", \n",
    "                    \"USDCNY\", \"USDCNH\", \"USDSGD\", \"USDCHF\", \"USDTHB\", \"USDIDR\", \"USDINR\", \"USDMYR\",\n",
    "                    \"USDTWD\", \"USDKRW\", \"USDPHP\"]\n",
    "spot_ndf.index.name = \"date\"\n",
    "spot_ndf.index = pd.to_datetime(spot_ndf.index)\n",
    "spot_ndf = spot_ndf.astype(float)\n",
    "spot = spot_ndf.copy()\n",
    "\n",
    "fp = raw_data[[x for x in list(raw_data) if x in [\"IHN1M CMPN Curncy\", \"IRN1M CMPN Curncy\", \"MRN1M CMPN Curncy\", \"NTN1M CMPN Curncy\", \"KWN1M CMPN Curncy\", \"PPN1M CMPN Curncy\"]]].iloc[2:]\n",
    "fp.columns = [\"USDIDR\", \"USDINR\", \"USDMYR\", \"USDTWD\", \"USDKRW\", \"USDPHP\"]\n",
    "fp = fp.astype(float)\n",
    "fp.index = pd.to_datetime(fp.index)\n",
    "\n",
    "spot[\"USDIDR\"] = spot_ndf[\"USDIDR\"] - fp[\"USDIDR\"]\n",
    "spot[\"USDINR\"] = spot_ndf[\"USDINR\"] - fp[\"USDINR\"]/100\n",
    "spot[\"USDMYR\"] = spot_ndf[\"USDMYR\"] - fp[\"USDMYR\"]/10000\n",
    "spot[\"USDTWD\"] = spot_ndf[\"USDTWD\"] - fp[\"USDTWD\"]\n",
    "spot[\"USDKRW\"] = spot_ndf[\"USDKRW\"] - fp[\"USDKRW\"]\n",
    "spot[\"USDPHP\"] = spot_ndf[\"USDPHP\"] - fp[\"USDPHP\"]"
   ]
  },
  {
   "cell_type": "code",
   "execution_count": 7,
   "id": "3ba78ba0",
   "metadata": {},
   "outputs": [],
   "source": [
    "px = read_prices(\"../Dymon/Code Data/carry_adj_fx_returns.csv\")\n",
    "px.columns = [x[0] for x in px.columns]"
   ]
  },
  {
   "cell_type": "code",
   "execution_count": null,
   "id": "f0b3d42d",
   "metadata": {},
   "outputs": [],
   "source": []
  },
  {
   "cell_type": "code",
   "execution_count": 8,
   "id": "66dcd4c0",
   "metadata": {},
   "outputs": [],
   "source": [
    "total_price_ori = px.pipe(fill_date).pipe(omit_trailing_na).pipe(omit_leading_na, how = \"any\").ffill(limit = 2)\n",
    "total_price_usd = total_price_ori.pipe(standardize_series, \"prices\")\n",
    "total_returns_ori = total_price_ori.pct_change(fill_method=None)\n",
    "total_returns_usd = total_returns_ori.pipe(standardize_series, \"returns\")"
   ]
  },
  {
   "cell_type": "code",
   "execution_count": 9,
   "id": "8f72b9f5",
   "metadata": {},
   "outputs": [],
   "source": [
    "spot.loc[:\"2005\", [\"USDINR\", \"USDMYR\", \"USDKRW\", \"USDPHP\"]] = np.nan\n",
    "spot.loc[:\"2007-06-30\", [\"USDIDR\"]] = np.nan"
   ]
  },
  {
   "cell_type": "code",
   "execution_count": 10,
   "id": "a77deb4e",
   "metadata": {},
   "outputs": [],
   "source": [
    "spot_price_ori = spot.pipe(fill_date).pipe(omit_trailing_na).pipe(omit_leading_na, how = \"any\").ffill(limit = 2)\n",
    "spot_price_usd = spot_price_ori.pipe(standardize_series, \"prices\")\n",
    "spot_returns_ori = spot_price_ori.pct_change(fill_method=None)\n",
    "spot_returns_usd = spot_returns_ori.pipe(standardize_series, \"returns\")"
   ]
  },
  {
   "cell_type": "code",
   "execution_count": 11,
   "id": "7eef8f64",
   "metadata": {},
   "outputs": [],
   "source": [
    "G10_FX = [\"USDAUD\", \"USDCAD\", \"USDEUR\", \"USDGBP\", \"USDJPY\", \"USDNZD\", \"USDSEK\", \"USDNOK\", \"USDCHF\"]\n",
    "ASIA_FX = ['USDCNH', 'USDSGD', 'USDTHB', 'USDIDR', 'USDINR', 'USDMYR', 'USDTWD', 'USDKRW', 'USDPHP']\n",
    "ALL_FX = G10_FX + ASIA_FX"
   ]
  },
  {
   "cell_type": "code",
   "execution_count": null,
   "id": "7d3bb34e",
   "metadata": {},
   "outputs": [],
   "source": [
    "carry_returns_ori = total_returns_ori - spot_returns_ori\n",
    "carry_returns_usd = total_returns_usd - spot_returns_usd"
   ]
  }
 ],
 "metadata": {
  "kernelspec": {
   "display_name": "Python 3 (ipykernel)",
   "language": "python",
   "name": "python3"
  },
  "language_info": {
   "codemirror_mode": {
    "name": "ipython",
    "version": 3
   },
   "file_extension": ".py",
   "mimetype": "text/x-python",
   "name": "python",
   "nbconvert_exporter": "python",
   "pygments_lexer": "ipython3",
   "version": "3.9.6"
  },
  "toc": {
   "base_numbering": 1,
   "nav_menu": {},
   "number_sections": true,
   "sideBar": true,
   "skip_h1_title": false,
   "title_cell": "Table of Contents",
   "title_sidebar": "Contents",
   "toc_cell": false,
   "toc_position": {},
   "toc_section_display": true,
   "toc_window_display": false
  }
 },
 "nbformat": 4,
 "nbformat_minor": 5
}
