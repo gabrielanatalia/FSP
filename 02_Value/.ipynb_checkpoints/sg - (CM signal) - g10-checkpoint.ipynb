{
 "cells": [
  {
   "cell_type": "markdown",
   "id": "5f7d7e8e",
   "metadata": {},
   "source": [
    "# Imports"
   ]
  },
  {
   "cell_type": "code",
   "execution_count": 1,
   "id": "c0983d46",
   "metadata": {},
   "outputs": [
    {
     "name": "stderr",
     "output_type": "stream",
     "text": [
      "C:\\Users\\vin_s\\AppData\\Local\\Programs\\Python\\Python39\\lib\\site-packages\\pyfolio\\pos.py:26: UserWarning: Module \"zipline.assets\" not found; mutltipliers will not be applied to position notionals.\n",
      "  warnings.warn(\n"
     ]
    }
   ],
   "source": [
    "import sys\n",
    "sys.path.insert(1, '../')\n",
    "from genesis import *"
   ]
  },
  {
   "cell_type": "code",
   "execution_count": 2,
   "id": "71cc0985",
   "metadata": {},
   "outputs": [],
   "source": [
    "# pd.options.display.max_rows = 300"
   ]
  },
  {
   "cell_type": "code",
   "execution_count": 3,
   "id": "b049e193",
   "metadata": {},
   "outputs": [],
   "source": [
    "universe = G10_FX\n",
    "total_returns = total_returns_usd[universe]\n",
    "spot_returns = spot_returns_usd[universe]\n",
    "carry_returns = carry_returns_usd[universe]"
   ]
  },
  {
   "cell_type": "markdown",
   "id": "08e37211",
   "metadata": {},
   "source": [
    "# Settings"
   ]
  },
  {
   "cell_type": "code",
   "execution_count": 4,
   "id": "ebc217d3",
   "metadata": {},
   "outputs": [],
   "source": [
    "s = Settings(start_date = \"2000-01-01\", end_date = \"2016-12-31\", notional = 100, implementation_lag = 1,\n",
    "             asset_scaling_method=\"simple\", asset_scaling_target=0.1, asset_scaling_width=130,\n",
    "             sector_scaling_method=\"simple\", sector_scaling_target=0.1, sector_scaling_width=130,\n",
    "             portfolio_scaling_method=\"simple\", portfolio_scaling_target=0.1, portfolio_scaling_width=260)"
   ]
  },
  {
   "cell_type": "markdown",
   "id": "6f26b099",
   "metadata": {},
   "source": [
    "# Signal "
   ]
  },
  {
   "cell_type": "code",
   "execution_count": 23,
   "id": "faa9f8e4",
   "metadata": {},
   "outputs": [],
   "source": [
    "## SG - Value investing in fixed income, currencies and commodities, pp16 (CM signal)\n",
    "sig = total_price_usd[universe].ffill().\\\n",
    "          pipe(norm, 252).\\\n",
    "          pipe(demean_xs).\\\n",
    "          pipe(cap_helper, 2.5).\\\n",
    "          pipe(rolling_mean, 5) * -1"
   ]
  },
  {
   "cell_type": "code",
   "execution_count": 30,
   "id": "2645d251",
   "metadata": {},
   "outputs": [],
   "source": [
    "sig = spot_price_usd[universe].ffill().\\\n",
    "          pipe(norm, 252).pipe(zscore, 252).\\\n",
    "          pipe(demean_xs).\\\n",
    "          pipe(cap_helper, 2.5).\\\n",
    "          pipe(rolling_mean, 5) * -1"
   ]
  },
  {
   "cell_type": "code",
   "execution_count": 31,
   "id": "2b9c51bd",
   "metadata": {},
   "outputs": [
    {
     "name": "stdout",
     "output_type": "stream",
     "text": [
      "Re-arranging asset columns\n",
      "Asset scaling ...\n",
      "Portfolio scaling ...\n",
      "    Grouping by [ALL]\n"
     ]
    }
   ],
   "source": [
    "b = Backtest(signal = sig, asset_returns = total_returns, tcost = abs(total_returns*0), settings = s)\n",
    "b.run()"
   ]
  },
  {
   "cell_type": "code",
   "execution_count": 32,
   "id": "a701693f",
   "metadata": {},
   "outputs": [],
   "source": [
    "bt_obj = b"
   ]
  },
  {
   "cell_type": "code",
   "execution_count": 33,
   "id": "6f55aa65",
   "metadata": {},
   "outputs": [
    {
     "name": "stdout",
     "output_type": "stream",
     "text": [
      "Returns   : -0.02844551001725904\n",
      "Vol       : 0.10961498574700428\n",
      "SR        : -0.25950384268545545\n",
      "Max DD    : -51.61\n",
      "Hit rate  : 0.491\n",
      "W | N | L : 0.49 | 0.0 | 0.51\n",
      "W/L Ratio : 0.97\n"
     ]
    }
   ],
   "source": [
    "get_summary(bt_obj)"
   ]
  },
  {
   "cell_type": "code",
   "execution_count": 34,
   "id": "41a3cb6c",
   "metadata": {},
   "outputs": [
    {
     "data": {
      "text/html": [
       "<div>\n",
       "<style scoped>\n",
       "    .dataframe tbody tr th:only-of-type {\n",
       "        vertical-align: middle;\n",
       "    }\n",
       "\n",
       "    .dataframe tbody tr th {\n",
       "        vertical-align: top;\n",
       "    }\n",
       "\n",
       "    .dataframe thead th {\n",
       "        text-align: right;\n",
       "    }\n",
       "</style>\n",
       "<table border=\"1\" class=\"dataframe\">\n",
       "  <thead>\n",
       "    <tr style=\"text-align: right;\">\n",
       "      <th></th>\n",
       "      <th>USDAUD</th>\n",
       "      <th>USDCAD</th>\n",
       "      <th>USDEUR</th>\n",
       "      <th>USDGBP</th>\n",
       "      <th>USDJPY</th>\n",
       "      <th>USDNZD</th>\n",
       "      <th>USDSEK</th>\n",
       "      <th>USDNOK</th>\n",
       "      <th>USDCHF</th>\n",
       "    </tr>\n",
       "  </thead>\n",
       "  <tbody>\n",
       "    <tr>\n",
       "      <th>annualized_return</th>\n",
       "      <td>0.40034</td>\n",
       "      <td>-0.905772</td>\n",
       "      <td>-1.409462</td>\n",
       "      <td>0.670283</td>\n",
       "      <td>0.234542</td>\n",
       "      <td>-0.223211</td>\n",
       "      <td>-1.005063</td>\n",
       "      <td>0.587668</td>\n",
       "      <td>-0.784669</td>\n",
       "    </tr>\n",
       "    <tr>\n",
       "      <th>sharpe</th>\n",
       "      <td>0.112689</td>\n",
       "      <td>-0.230019</td>\n",
       "      <td>-0.557336</td>\n",
       "      <td>0.193984</td>\n",
       "      <td>0.054307</td>\n",
       "      <td>-0.071889</td>\n",
       "      <td>-0.389797</td>\n",
       "      <td>0.217008</td>\n",
       "      <td>-0.243104</td>\n",
       "    </tr>\n",
       "    <tr>\n",
       "      <th>dollar_sharpe</th>\n",
       "      <td>0.100359</td>\n",
       "      <td>-0.26089</td>\n",
       "      <td>-0.57238</td>\n",
       "      <td>0.162677</td>\n",
       "      <td>0.030328</td>\n",
       "      <td>-0.089755</td>\n",
       "      <td>-0.408561</td>\n",
       "      <td>0.21226</td>\n",
       "      <td>-0.260248</td>\n",
       "    </tr>\n",
       "    <tr>\n",
       "      <th>trade_sharpe</th>\n",
       "      <td>0.112689</td>\n",
       "      <td>-0.230019</td>\n",
       "      <td>-0.557336</td>\n",
       "      <td>0.193984</td>\n",
       "      <td>0.054307</td>\n",
       "      <td>-0.071889</td>\n",
       "      <td>-0.389797</td>\n",
       "      <td>0.217008</td>\n",
       "      <td>-0.243104</td>\n",
       "    </tr>\n",
       "    <tr>\n",
       "      <th>long_sharpe</th>\n",
       "      <td>-0.050694</td>\n",
       "      <td>-0.489937</td>\n",
       "      <td>-0.297436</td>\n",
       "      <td>0.41792</td>\n",
       "      <td>0.314191</td>\n",
       "      <td>-0.223952</td>\n",
       "      <td>-0.324952</td>\n",
       "      <td>0.153215</td>\n",
       "      <td>0.134579</td>\n",
       "    </tr>\n",
       "    <tr>\n",
       "      <th>short_sharpe</th>\n",
       "      <td>0.288825</td>\n",
       "      <td>0.088835</td>\n",
       "      <td>-0.874502</td>\n",
       "      <td>0.09067</td>\n",
       "      <td>-0.216179</td>\n",
       "      <td>0.061519</td>\n",
       "      <td>-0.507175</td>\n",
       "      <td>0.301004</td>\n",
       "      <td>-0.530613</td>\n",
       "    </tr>\n",
       "    <tr>\n",
       "      <th>sortino</th>\n",
       "      <td>0.065563</td>\n",
       "      <td>-0.136241</td>\n",
       "      <td>-0.280912</td>\n",
       "      <td>0.102103</td>\n",
       "      <td>0.029798</td>\n",
       "      <td>-0.041585</td>\n",
       "      <td>-0.207325</td>\n",
       "      <td>0.120362</td>\n",
       "      <td>-0.115111</td>\n",
       "    </tr>\n",
       "    <tr>\n",
       "      <th>max_drawdown</th>\n",
       "      <td>-11.059699</td>\n",
       "      <td>-26.817726</td>\n",
       "      <td>-27.863342</td>\n",
       "      <td>-16.003157</td>\n",
       "      <td>-26.419674</td>\n",
       "      <td>-14.079457</td>\n",
       "      <td>-17.688318</td>\n",
       "      <td>-11.78277</td>\n",
       "      <td>-29.735673</td>\n",
       "    </tr>\n",
       "    <tr>\n",
       "      <th>max_drawdown_start</th>\n",
       "      <td>2002-06-21</td>\n",
       "      <td>2003-02-10</td>\n",
       "      <td>2005-04-20</td>\n",
       "      <td>2013-01-09</td>\n",
       "      <td>2012-09-27</td>\n",
       "      <td>2006-01-13</td>\n",
       "      <td>2002-06-12</td>\n",
       "      <td>2003-06-13</td>\n",
       "      <td>2004-04-23</td>\n",
       "    </tr>\n",
       "    <tr>\n",
       "      <th>max_drawdown_end</th>\n",
       "      <td>2007-08-16</td>\n",
       "      <td>2010-04-14</td>\n",
       "      <td>2015-08-24</td>\n",
       "      <td>2016-10-11</td>\n",
       "      <td>2013-06-14</td>\n",
       "      <td>2007-09-05</td>\n",
       "      <td>2016-12-30</td>\n",
       "      <td>2010-01-11</td>\n",
       "      <td>2015-11-27</td>\n",
       "    </tr>\n",
       "  </tbody>\n",
       "</table>\n",
       "</div>"
      ],
      "text/plain": [
       "                        USDAUD      USDCAD      USDEUR      USDGBP  \\\n",
       "annualized_return      0.40034   -0.905772   -1.409462    0.670283   \n",
       "sharpe                0.112689   -0.230019   -0.557336    0.193984   \n",
       "dollar_sharpe         0.100359    -0.26089    -0.57238    0.162677   \n",
       "trade_sharpe          0.112689   -0.230019   -0.557336    0.193984   \n",
       "long_sharpe          -0.050694   -0.489937   -0.297436     0.41792   \n",
       "short_sharpe          0.288825    0.088835   -0.874502     0.09067   \n",
       "sortino               0.065563   -0.136241   -0.280912    0.102103   \n",
       "max_drawdown        -11.059699  -26.817726  -27.863342  -16.003157   \n",
       "max_drawdown_start  2002-06-21  2003-02-10  2005-04-20  2013-01-09   \n",
       "max_drawdown_end    2007-08-16  2010-04-14  2015-08-24  2016-10-11   \n",
       "\n",
       "                        USDJPY      USDNZD      USDSEK      USDNOK      USDCHF  \n",
       "annualized_return     0.234542   -0.223211   -1.005063    0.587668   -0.784669  \n",
       "sharpe                0.054307   -0.071889   -0.389797    0.217008   -0.243104  \n",
       "dollar_sharpe         0.030328   -0.089755   -0.408561     0.21226   -0.260248  \n",
       "trade_sharpe          0.054307   -0.071889   -0.389797    0.217008   -0.243104  \n",
       "long_sharpe           0.314191   -0.223952   -0.324952    0.153215    0.134579  \n",
       "short_sharpe         -0.216179    0.061519   -0.507175    0.301004   -0.530613  \n",
       "sortino               0.029798   -0.041585   -0.207325    0.120362   -0.115111  \n",
       "max_drawdown        -26.419674  -14.079457  -17.688318   -11.78277  -29.735673  \n",
       "max_drawdown_start  2012-09-27  2006-01-13  2002-06-12  2003-06-13  2004-04-23  \n",
       "max_drawdown_end    2013-06-14  2007-09-05  2016-12-30  2010-01-11  2015-11-27  "
      ]
     },
     "execution_count": 34,
     "metadata": {},
     "output_type": "execute_result"
    }
   ],
   "source": [
    "get_returns_stats(bt_obj.asset_rtn, b.wts)"
   ]
  },
  {
   "cell_type": "code",
   "execution_count": null,
   "id": "984cef10",
   "metadata": {},
   "outputs": [],
   "source": [
    "plot_bt(bt_obj)"
   ]
  },
  {
   "cell_type": "code",
   "execution_count": null,
   "id": "2ba2b5a7",
   "metadata": {},
   "outputs": [],
   "source": []
  },
  {
   "cell_type": "code",
   "execution_count": null,
   "id": "aca83d18",
   "metadata": {},
   "outputs": [],
   "source": []
  },
  {
   "cell_type": "code",
   "execution_count": null,
   "id": "4455e184",
   "metadata": {},
   "outputs": [],
   "source": []
  },
  {
   "cell_type": "code",
   "execution_count": null,
   "id": "e507a4c1",
   "metadata": {},
   "outputs": [],
   "source": []
  },
  {
   "cell_type": "code",
   "execution_count": null,
   "id": "744f72a7",
   "metadata": {},
   "outputs": [],
   "source": []
  },
  {
   "cell_type": "code",
   "execution_count": null,
   "id": "5793c61f",
   "metadata": {},
   "outputs": [],
   "source": []
  },
  {
   "cell_type": "code",
   "execution_count": null,
   "id": "184f1170",
   "metadata": {},
   "outputs": [],
   "source": [
    "pf.plot_monthly_returns_dist(bt_obj.model_rtn)"
   ]
  },
  {
   "cell_type": "code",
   "execution_count": null,
   "id": "6b6ede7e",
   "metadata": {},
   "outputs": [],
   "source": [
    "gs = GridSpec(nrows = 2, ncols = 2)\n",
    "fig = plt.figure(figsize=(20, 15))\n",
    "fig.suptitle(t=\"Full Backtest\", fontsize=30, y=.925)\n",
    "\n",
    "fig.add_subplot(gs[0]).set_label(gen_plot_rtn(bt_obj.model_rtn, main = \"Returns (Full Period)\"))\n",
    "fig.add_subplot(gs[1]).set_label(gen_rtn_asset(bt_obj))\n",
    "fig.add_subplot(gs[2]).set_label(pf.plot_drawdown_underwater(bt_obj.model_rtn))\n",
    "fig.add_subplot(gs[3]).set_label(gen_rtn_longshort(bt_obj))"
   ]
  },
  {
   "cell_type": "code",
   "execution_count": null,
   "id": "a7cda906",
   "metadata": {},
   "outputs": [],
   "source": [
    "# gen_rtn_longshort(bt_obj)\n",
    "# gen_rtn_component(bt_obj, spot_rtns, carry_rtns)\n",
    "# gen_leadlag(b, nlag=20)\n",
    "# gen_rolling_hitrate(bt_obj.model_rtn)\n",
    "# gen_rolling_winloss(bt_obj.model_rtn)\n",
    "# pf.plot_monthly_returns_dist(bt_obj.model_rtn)\n",
    "# pf.plot_annual_returns(bt_obj.model_rtn)\n",
    "# gen_signal(bt_obj)\n",
    "# gen_rtn_asset(bt_obj)\n",
    "# gen_plot_rtn(bt_obj.model_rtn[\"2012\":])\n",
    "# gen_rolling_sharpe(bt_obj.model_rtn)\n",
    "# gen_rtn_col_component(bt_obj, spot_rtns, carry_rtns)\n",
    "# gen_rtn_col_longshort(bt_obj)"
   ]
  },
  {
   "cell_type": "code",
   "execution_count": null,
   "id": "f41e95c8",
   "metadata": {},
   "outputs": [],
   "source": [
    "def band_filter(series):\n",
    "  return series.applymap(lambda x: 1 if x < -1.5 else -1 if x > 1.5 else 0)\n",
    "\n",
    "def hold_position(series):\n",
    "  tmp = np.sign(series).diff()\n",
    "  return pd.Series([np.nan if y == 0 else x for x,y in zip(series, tmp.diff())], index = tmp.index).ffill()\n",
    "\n",
    "binary = spot_returns.pipe(zscore, 252*5).pipe(band_filter)\n",
    "mag = abs(spot_returns.pipe(zscore, 252*5)) * binary\n",
    "sig = mag.apply(hold_position)"
   ]
  }
 ],
 "metadata": {
  "kernelspec": {
   "display_name": "Python 3 (ipykernel)",
   "language": "python",
   "name": "python3"
  },
  "language_info": {
   "codemirror_mode": {
    "name": "ipython",
    "version": 3
   },
   "file_extension": ".py",
   "mimetype": "text/x-python",
   "name": "python",
   "nbconvert_exporter": "python",
   "pygments_lexer": "ipython3",
   "version": "3.9.6"
  },
  "toc": {
   "base_numbering": 1,
   "nav_menu": {},
   "number_sections": true,
   "sideBar": true,
   "skip_h1_title": false,
   "title_cell": "Table of Contents",
   "title_sidebar": "Contents",
   "toc_cell": false,
   "toc_position": {},
   "toc_section_display": true,
   "toc_window_display": false
  }
 },
 "nbformat": 4,
 "nbformat_minor": 5
}
