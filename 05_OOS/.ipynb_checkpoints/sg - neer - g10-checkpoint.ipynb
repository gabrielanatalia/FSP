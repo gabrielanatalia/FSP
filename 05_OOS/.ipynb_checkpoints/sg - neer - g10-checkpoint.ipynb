{
 "cells": [
  {
   "cell_type": "markdown",
   "id": "5f7d7e8e",
   "metadata": {},
   "source": [
    "# Imports"
   ]
  },
  {
   "cell_type": "code",
   "execution_count": 1,
   "id": "c0983d46",
   "metadata": {},
   "outputs": [
    {
     "name": "stderr",
     "output_type": "stream",
     "text": [
      "C:\\Users\\vin_s\\AppData\\Local\\Programs\\Python\\Python39\\lib\\site-packages\\pyfolio\\pos.py:26: UserWarning: Module \"zipline.assets\" not found; mutltipliers will not be applied to position notionals.\n",
      "  warnings.warn(\n"
     ]
    }
   ],
   "source": [
    "import sys\n",
    "sys.path.insert(1, '../')\n",
    "from genesis import *"
   ]
  },
  {
   "cell_type": "code",
   "execution_count": 2,
   "id": "52d04d3c",
   "metadata": {},
   "outputs": [],
   "source": [
    "universe = G10_FX\n",
    "total_returns = total_returns_usd[universe]\n",
    "spot_returns = spot_returns_usd[universe]\n",
    "carry_returns = carry_returns_usd[universe]"
   ]
  },
  {
   "cell_type": "markdown",
   "id": "5d26dc01",
   "metadata": {},
   "source": [
    "# Settings"
   ]
  },
  {
   "cell_type": "code",
   "execution_count": 3,
   "id": "6cc28b37",
   "metadata": {},
   "outputs": [],
   "source": [
    "settings = Settings(start_date = \"2000-01-01\", end_date = \"2020-12-31\", notional = 100, implementation_lag = 1,\n",
    "             asset_scaling_method=\"simple\", asset_scaling_target=0.1, asset_scaling_width=126, rebalance_period=\"daily\",\n",
    "             sector_scaling_method=\"simple\", sector_scaling_target=0.1, sector_scaling_width=126,\n",
    "             portfolio_scaling_method=\"simple\", portfolio_scaling_target=0.1, portfolio_scaling_width=252)"
   ]
  },
  {
   "cell_type": "markdown",
   "id": "99d298d0",
   "metadata": {},
   "source": [
    "# Other Data"
   ]
  },
  {
   "cell_type": "markdown",
   "id": "be0e03d2",
   "metadata": {},
   "source": [
    "# Data integrity"
   ]
  },
  {
   "cell_type": "markdown",
   "id": "2afa5107",
   "metadata": {},
   "source": [
    "# Signal"
   ]
  },
  {
   "cell_type": "code",
   "execution_count": 4,
   "id": "f29dbb6c",
   "metadata": {},
   "outputs": [],
   "source": [
    "sig = spot_price_usd[universe].pipe(fill_date).rolling(window = 252*6, min_periods = 252*3).apply(lambda x: (x[-1]/x[0])-1).pipe(demean_xs).pipe(top_bottom_xs).pipe(cap_helper, 0.2).pipe(rolling_mean, 5) * -1"
   ]
  },
  {
   "cell_type": "markdown",
   "id": "ef2d7158",
   "metadata": {},
   "source": [
    "# Backtest Daily Rebal"
   ]
  },
  {
   "cell_type": "code",
   "execution_count": 5,
   "id": "72095d76",
   "metadata": {},
   "outputs": [
    {
     "name": "stdout",
     "output_type": "stream",
     "text": [
      "Re-arranging asset columns\n",
      "Asset scaling ...\n",
      "Portfolio scaling ...\n",
      "    Grouping by [ALL]\n"
     ]
    }
   ],
   "source": [
    "daily_bt = Backtest(signal = sig, asset_returns = total_returns, tcost = abs(total_returns*0), settings = settings)\n",
    "daily_bt.run()"
   ]
  },
  {
   "cell_type": "code",
   "execution_count": 6,
   "id": "6f55aa65",
   "metadata": {},
   "outputs": [
    {
     "name": "stdout",
     "output_type": "stream",
     "text": [
      "Returns   : 0.04184285695652002\n",
      "Vol       : 0.10772459743718894\n",
      "SR        : 0.3884243520233841\n",
      "Max DD    : -38.7\n",
      "\n",
      "C Returns : 0.03670169023731404\n",
      "C SR      : 0.32391286658421264\n",
      "C Max DD  : -33.25\n",
      "\n",
      "Hit rate  : 0.498\n",
      "W | N | L : 0.5 | 0.0 | 0.5\n",
      "W/L Ratio : 0.99\n"
     ]
    }
   ],
   "source": [
    "get_summary(daily_bt)"
   ]
  },
  {
   "cell_type": "code",
   "execution_count": 7,
   "id": "963ff6be",
   "metadata": {},
   "outputs": [
    {
     "data": {
      "text/html": [
       "<div>\n",
       "<style scoped>\n",
       "    .dataframe tbody tr th:only-of-type {\n",
       "        vertical-align: middle;\n",
       "    }\n",
       "\n",
       "    .dataframe tbody tr th {\n",
       "        vertical-align: top;\n",
       "    }\n",
       "\n",
       "    .dataframe thead th {\n",
       "        text-align: right;\n",
       "    }\n",
       "</style>\n",
       "<table border=\"1\" class=\"dataframe\">\n",
       "  <thead>\n",
       "    <tr style=\"text-align: right;\">\n",
       "      <th></th>\n",
       "      <th>USDAUD</th>\n",
       "      <th>USDCAD</th>\n",
       "      <th>USDEUR</th>\n",
       "      <th>USDGBP</th>\n",
       "      <th>USDJPY</th>\n",
       "      <th>USDNZD</th>\n",
       "      <th>USDSEK</th>\n",
       "      <th>USDNOK</th>\n",
       "      <th>USDCHF</th>\n",
       "    </tr>\n",
       "  </thead>\n",
       "  <tbody>\n",
       "    <tr>\n",
       "      <th>annualized_return</th>\n",
       "      <td>1.237268</td>\n",
       "      <td>0.834368</td>\n",
       "      <td>0.290338</td>\n",
       "      <td>0.8394</td>\n",
       "      <td>-0.310358</td>\n",
       "      <td>0.752639</td>\n",
       "      <td>0.013381</td>\n",
       "      <td>-0.326729</td>\n",
       "      <td>0.890943</td>\n",
       "    </tr>\n",
       "    <tr>\n",
       "      <th>sharpe</th>\n",
       "      <td>0.411449</td>\n",
       "      <td>0.3554</td>\n",
       "      <td>0.100012</td>\n",
       "      <td>0.171968</td>\n",
       "      <td>-0.042923</td>\n",
       "      <td>0.16789</td>\n",
       "      <td>0.006685</td>\n",
       "      <td>-0.076633</td>\n",
       "      <td>0.165755</td>\n",
       "    </tr>\n",
       "    <tr>\n",
       "      <th>dollar_sharpe</th>\n",
       "      <td>0.397502</td>\n",
       "      <td>0.34331</td>\n",
       "      <td>0.085098</td>\n",
       "      <td>0.162809</td>\n",
       "      <td>-0.077749</td>\n",
       "      <td>0.152646</td>\n",
       "      <td>-0.003833</td>\n",
       "      <td>-0.09559</td>\n",
       "      <td>0.139013</td>\n",
       "    </tr>\n",
       "    <tr>\n",
       "      <th>trade_sharpe</th>\n",
       "      <td>0.542573</td>\n",
       "      <td>0.769555</td>\n",
       "      <td>0.167677</td>\n",
       "      <td>0.212656</td>\n",
       "      <td>-0.043185</td>\n",
       "      <td>0.231688</td>\n",
       "      <td>0.053186</td>\n",
       "      <td>-0.122531</td>\n",
       "      <td>0.190359</td>\n",
       "    </tr>\n",
       "    <tr>\n",
       "      <th>long_sharpe</th>\n",
       "      <td>0.6332</td>\n",
       "      <td>0.568572</td>\n",
       "      <td>0.608446</td>\n",
       "      <td>1.758235</td>\n",
       "      <td>0.681105</td>\n",
       "      <td>0.136045</td>\n",
       "      <td>0.281014</td>\n",
       "      <td>0.333727</td>\n",
       "      <td>0.179326</td>\n",
       "    </tr>\n",
       "    <tr>\n",
       "      <th>short_sharpe</th>\n",
       "      <td>0.445846</td>\n",
       "      <td>1.065738</td>\n",
       "      <td>-0.287983</td>\n",
       "      <td>0.082857</td>\n",
       "      <td>-0.322701</td>\n",
       "      <td>1.792633</td>\n",
       "      <td>0.053059</td>\n",
       "      <td>-0.153364</td>\n",
       "      <td>1.692172</td>\n",
       "    </tr>\n",
       "    <tr>\n",
       "      <th>sortino</th>\n",
       "      <td>0.213782</td>\n",
       "      <td>0.115626</td>\n",
       "      <td>0.040745</td>\n",
       "      <td>0.086148</td>\n",
       "      <td>-0.027548</td>\n",
       "      <td>0.094938</td>\n",
       "      <td>0.002309</td>\n",
       "      <td>-0.035016</td>\n",
       "      <td>0.093362</td>\n",
       "    </tr>\n",
       "    <tr>\n",
       "      <th>max_drawdown</th>\n",
       "      <td>-10.784224</td>\n",
       "      <td>-7.13143</td>\n",
       "      <td>-15.072511</td>\n",
       "      <td>-21.775081</td>\n",
       "      <td>-39.196444</td>\n",
       "      <td>-14.337689</td>\n",
       "      <td>-7.474973</td>\n",
       "      <td>-21.966924</td>\n",
       "      <td>-18.364488</td>\n",
       "    </tr>\n",
       "    <tr>\n",
       "      <th>max_drawdown_start</th>\n",
       "      <td>2010-07-19</td>\n",
       "      <td>2010-05-20</td>\n",
       "      <td>2013-02-01</td>\n",
       "      <td>2008-07-15</td>\n",
       "      <td>2004-12-03</td>\n",
       "      <td>2006-06-28</td>\n",
       "      <td>2019-03-20</td>\n",
       "      <td>2018-02-01</td>\n",
       "      <td>2010-02-15</td>\n",
       "    </tr>\n",
       "    <tr>\n",
       "      <th>max_drawdown_end</th>\n",
       "      <td>2012-08-10</td>\n",
       "      <td>2016-01-19</td>\n",
       "      <td>2018-02-01</td>\n",
       "      <td>2010-05-18</td>\n",
       "      <td>2007-06-22</td>\n",
       "      <td>2007-07-24</td>\n",
       "      <td>2019-10-09</td>\n",
       "      <td>2020-03-20</td>\n",
       "      <td>2011-08-09</td>\n",
       "    </tr>\n",
       "  </tbody>\n",
       "</table>\n",
       "</div>"
      ],
      "text/plain": [
       "                        USDAUD      USDCAD      USDEUR      USDGBP  \\\n",
       "annualized_return     1.237268    0.834368    0.290338      0.8394   \n",
       "sharpe                0.411449      0.3554    0.100012    0.171968   \n",
       "dollar_sharpe         0.397502     0.34331    0.085098    0.162809   \n",
       "trade_sharpe          0.542573    0.769555    0.167677    0.212656   \n",
       "long_sharpe             0.6332    0.568572    0.608446    1.758235   \n",
       "short_sharpe          0.445846    1.065738   -0.287983    0.082857   \n",
       "sortino               0.213782    0.115626    0.040745    0.086148   \n",
       "max_drawdown        -10.784224    -7.13143  -15.072511  -21.775081   \n",
       "max_drawdown_start  2010-07-19  2010-05-20  2013-02-01  2008-07-15   \n",
       "max_drawdown_end    2012-08-10  2016-01-19  2018-02-01  2010-05-18   \n",
       "\n",
       "                        USDJPY      USDNZD      USDSEK      USDNOK      USDCHF  \n",
       "annualized_return    -0.310358    0.752639    0.013381   -0.326729    0.890943  \n",
       "sharpe               -0.042923     0.16789    0.006685   -0.076633    0.165755  \n",
       "dollar_sharpe        -0.077749    0.152646   -0.003833    -0.09559    0.139013  \n",
       "trade_sharpe         -0.043185    0.231688    0.053186   -0.122531    0.190359  \n",
       "long_sharpe           0.681105    0.136045    0.281014    0.333727    0.179326  \n",
       "short_sharpe         -0.322701    1.792633    0.053059   -0.153364    1.692172  \n",
       "sortino              -0.027548    0.094938    0.002309   -0.035016    0.093362  \n",
       "max_drawdown        -39.196444  -14.337689   -7.474973  -21.966924  -18.364488  \n",
       "max_drawdown_start  2004-12-03  2006-06-28  2019-03-20  2018-02-01  2010-02-15  \n",
       "max_drawdown_end    2007-06-22  2007-07-24  2019-10-09  2020-03-20  2011-08-09  "
      ]
     },
     "execution_count": 7,
     "metadata": {},
     "output_type": "execute_result"
    }
   ],
   "source": [
    "get_returns_stats(daily_bt.asset_rtn, daily_bt.wts)"
   ]
  },
  {
   "cell_type": "code",
   "execution_count": 8,
   "id": "a3fed746",
   "metadata": {},
   "outputs": [
    {
     "data": {
      "text/plain": [
       "0.2410456428672455"
      ]
     },
     "execution_count": 8,
     "metadata": {},
     "output_type": "execute_result"
    }
   ],
   "source": [
    "daily_bt.model_rtn.skew()"
   ]
  },
  {
   "cell_type": "code",
   "execution_count": null,
   "id": "b6ab8f34",
   "metadata": {},
   "outputs": [],
   "source": [
    "plot_bt(daily_bt)"
   ]
  },
  {
   "cell_type": "code",
   "execution_count": null,
   "id": "fef9266a",
   "metadata": {},
   "outputs": [],
   "source": [
    "gs = GridSpec(nrows = 1, ncols = 3)\n",
    "fig = plt.figure(figsize=(21, 7))\n",
    "fig.suptitle(t=\"NEER Deviation\", fontsize=30, y=1)\n",
    "\n",
    "fig.add_subplot(gs[0]).set_label(gen_plot_rtn(daily_bt.model_rtn[:\"2016\"], main = \"Returns In-Sample(/2016)\", compound=True))\n",
    "fig.add_subplot(gs[1]).set_label(gen_plot_rtn(daily_bt.model_rtn[\"2016\":], main = \"Returns OOS(2016/)\", compound=True))\n",
    "fig.add_subplot(gs[2]).set_label(gen_plot_rtn(daily_bt.model_rtn, main = \"Returns (Full Period)\", compound=True))"
   ]
  }
 ],
 "metadata": {
  "kernelspec": {
   "display_name": "Python 3 (ipykernel)",
   "language": "python",
   "name": "python3"
  },
  "language_info": {
   "codemirror_mode": {
    "name": "ipython",
    "version": 3
   },
   "file_extension": ".py",
   "mimetype": "text/x-python",
   "name": "python",
   "nbconvert_exporter": "python",
   "pygments_lexer": "ipython3",
   "version": "3.9.6"
  },
  "toc": {
   "base_numbering": 1,
   "nav_menu": {},
   "number_sections": true,
   "sideBar": true,
   "skip_h1_title": false,
   "title_cell": "Table of Contents",
   "title_sidebar": "Contents",
   "toc_cell": false,
   "toc_position": {},
   "toc_section_display": true,
   "toc_window_display": false
  }
 },
 "nbformat": 4,
 "nbformat_minor": 5
}
